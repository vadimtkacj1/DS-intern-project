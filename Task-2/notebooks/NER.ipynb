{
  "cells": [
    {
      "cell_type": "markdown",
      "metadata": {
        "colab_type": "text",
        "id": "view-in-github"
      },
      "source": [
        "<a href=\"https://colab.research.google.com/github/pelinbalci/LLM_Notebooks/blob/main/NER.ipynb\" target=\"_parent\"><img src=\"https://colab.research.google.com/assets/colab-badge.svg\" alt=\"Open In Colab\"/></a>"
      ]
    },
    {
      "cell_type": "markdown",
      "metadata": {},
      "source": [
        "## Dependency"
      ]
    },
    {
      "cell_type": "code",
      "execution_count": null,
      "metadata": {},
      "outputs": [],
      "source": [
        "import pandas as pd\n",
        "import torch\n",
        "from transformers import AutoModelForTokenClassification, Trainer, TrainingArguments, AutoTokenizer, DataCollatorForTokenClassification\n",
        "from sklearn.metrics import accuracy_score, precision_score, recall_score, f1_score\n",
        "from datasets import Dataset, DatasetDict\n",
        "import nltk\n",
        "import os\n",
        "from nltk.stem import WordNetLemmatizer\n",
        "from sklearn.utils import shuffle\n",
        "from hydra.core.global_hydra import GlobalHydra\n",
        "import hydra\n"
      ]
    },
    {
      "cell_type": "markdown",
      "metadata": {},
      "source": [
        "## Load conifg"
      ]
    },
    {
      "cell_type": "code",
      "execution_count": 28,
      "metadata": {},
      "outputs": [],
      "source": [
        "# Clear existing Hydra instance\n",
        "if GlobalHydra.instance().is_initialized():\n",
        "    GlobalHydra.instance().clear()\n",
        "\n",
        "# Re-initialize\n",
        "with hydra.initialize(config_path=\"../config\", version_base=None):\n",
        "    cfg = hydra.compose(config_name=\"ner-config.yaml\", return_hydra_config=True)\n",
        "    global_cfg = hydra.compose(config_name=\"config.yaml\")"
      ]
    },
    {
      "cell_type": "markdown",
      "metadata": {},
      "source": [
        "## Paths"
      ]
    },
    {
      "cell_type": "code",
      "execution_count": null,
      "metadata": {},
      "outputs": [],
      "source": [
        "root_path = os.path.abspath(os.path.join('..')) \n",
        "data_path = os.path.join(root_path, \"data\", \"processed\")\n",
        "models_path = os.path.join(root_path, \"models\")\n",
        "output_model_path = os.path.join(root_path, \"models\", cfg.model.ner_model_name)\n",
        "training_output_dir = os.path.join(root_path, cfg.paths.training_output_dir)\n",
        "logging_dir = os.path.join(root_path, cfg.paths.logging_dir_name)\n"
      ]
    },
    {
      "cell_type": "markdown",
      "metadata": {},
      "source": [
        "## Constants"
      ]
    },
    {
      "cell_type": "code",
      "execution_count": 30,
      "metadata": {},
      "outputs": [],
      "source": [
        "EVALUATION_STRATEGY = \"epoch\"\n",
        "SAVE_STRATEGY = \"epoch\"\n",
        "REPORT_TO = \"tensorboard\""
      ]
    },
    {
      "cell_type": "markdown",
      "metadata": {
        "id": "33v6KR86IqpD"
      },
      "source": [
        "# Load Data"
      ]
    },
    {
      "cell_type": "code",
      "execution_count": 31,
      "metadata": {
        "id": "BI8bdbonIqDE"
      },
      "outputs": [],
      "source": [
        "structured_text_df = pd.read_csv(os.path.join(data_path, cfg.paths.data_file))"
      ]
    },
    {
      "cell_type": "code",
      "execution_count": 32,
      "metadata": {},
      "outputs": [],
      "source": [
        "label2id = {label: id for id, label in enumerate(cfg.labels.label_ids)}\n",
        "id2label = {id: label for label, id in label2id.items()}"
      ]
    },
    {
      "cell_type": "code",
      "execution_count": 33,
      "metadata": {},
      "outputs": [
        {
          "name": "stderr",
          "output_type": "stream",
          "text": [
            "[nltk_data] Downloading package wordnet to\n",
            "[nltk_data]     C:\\Users\\vadim\\AppData\\Roaming\\nltk_data...\n",
            "[nltk_data]   Package wordnet is already up-to-date!\n"
          ]
        },
        {
          "data": {
            "text/plain": [
              "True"
            ]
          },
          "execution_count": 33,
          "metadata": {},
          "output_type": "execute_result"
        }
      ],
      "source": [
        "# Download WordNet lexical database for English words\n",
        "nltk.download('wordnet')"
      ]
    },
    {
      "cell_type": "code",
      "execution_count": 34,
      "metadata": {},
      "outputs": [],
      "source": [
        "lemmatizer = WordNetLemmatizer()"
      ]
    },
    {
      "cell_type": "code",
      "execution_count": 35,
      "metadata": {},
      "outputs": [],
      "source": [
        "def prepare_dataset(df, split_ratio=0.2, seed=42):\n",
        "    raw_data_dict = {}\n",
        "\n",
        "    for idx in set(df.Sentence_ID.values):\n",
        "        sentence = df[df.Sentence_ID == idx]\n",
        "        words = list(sentence.Words.values)\n",
        "\n",
        "        raw_data_dict[idx] = {\n",
        "            'words': [lemmatizer.lemmatize(word) for word in words],\n",
        "            'original_labels': list(sentence.Labels.values),\n",
        "            'ner_tags': list(sentence.ner_tags.values)\n",
        "        }\n",
        "\n",
        "    data_list = [\n",
        "        {\n",
        "            'id': idx,\n",
        "            'words': data['words'],\n",
        "            'ner_tags': data['ner_tags']\n",
        "        }\n",
        "        for idx, data in raw_data_dict.items()\n",
        "    ]\n",
        "\n",
        "    data_list = shuffle(data_list, random_state=seed)\n",
        "\n",
        "    train_dataset = Dataset.from_dict({k: [d[k] for d in data_list] for k in data_list[0]})\n",
        "\n",
        "    train_valid_split = train_dataset.train_test_split(test_size=split_ratio, seed=seed)\n",
        "\n",
        "    return DatasetDict({\n",
        "        \"train\": train_valid_split[\"train\"],\n",
        "        \"valid\": train_valid_split[\"test\"]\n",
        "    })"
      ]
    },
    {
      "cell_type": "markdown",
      "metadata": {},
      "source": [
        "## Tokenization"
      ]
    },
    {
      "cell_type": "code",
      "execution_count": 36,
      "metadata": {},
      "outputs": [],
      "source": [
        "tokenizer = AutoTokenizer.from_pretrained(cfg.model.name, use_fast=True)"
      ]
    },
    {
      "cell_type": "code",
      "execution_count": 37,
      "metadata": {},
      "outputs": [],
      "source": [
        "def align_labels_with_tokens(labels, word_ids):\n",
        "    new_labels = []\n",
        "    current_word = None\n",
        "\n",
        "    for word_id in word_ids:\n",
        "        if word_id != current_word:\n",
        "            current_word = word_id\n",
        "\n",
        "            if word_id is None:\n",
        "                label = -100\n",
        "            else:\n",
        "                label = labels[word_id]\n",
        "            new_labels.append(label)\n",
        "\n",
        "        elif word_id is None:\n",
        "            new_labels.append(-100)\n",
        "        else:\n",
        "            label = labels[word_id]\n",
        "\n",
        "            if label % 2 == 1:\n",
        "                label += 1\n",
        "            new_labels.append(label)\n",
        "\n",
        "    return new_labels"
      ]
    },
    {
      "cell_type": "code",
      "execution_count": 38,
      "metadata": {},
      "outputs": [],
      "source": [
        "def tokenize_and_align_labels(examples):\n",
        "    tokenized_inputs = tokenizer(\n",
        "        examples[\"words\"], truncation=True, padding=True, is_split_into_words=True\n",
        "    )\n",
        "\n",
        "    all_labels = examples[\"ner_tags\"]\n",
        "    new_labels = []\n",
        "    \n",
        "    for i, labels in enumerate(all_labels):\n",
        "        word_ids = tokenized_inputs.word_ids(i)\n",
        "        labels_with_tokens = align_labels_with_tokens(labels, word_ids)\n",
        "        new_labels.append(labels_with_tokens)\n",
        "\n",
        "    tokenized_inputs[\"labels\"] = new_labels\n",
        "\n",
        "    return tokenized_inputs"
      ]
    },
    {
      "cell_type": "code",
      "execution_count": 39,
      "metadata": {
        "colab": {
          "base_uri": "https://localhost:8080/"
        },
        "id": "aU0Fwjg0Iwzo",
        "outputId": "7f584734-deae-4777-b406-c371ec54a5ba"
      },
      "outputs": [
        {
          "name": "stderr",
          "output_type": "stream",
          "text": [
            "Map:   0%|          | 0/1212 [00:00<?, ? examples/s]Asking to truncate to max_length but no maximum length is provided and the model has no predefined maximum length. Default to no truncation.\n",
            "Map: 100%|██████████| 1212/1212 [00:00<00:00, 10711.70 examples/s]\n",
            "Map: 100%|██████████| 304/304 [00:00<00:00, 10482.05 examples/s]\n"
          ]
        }
      ],
      "source": [
        "raw_data = prepare_dataset(structured_text_df, seed=global_cfg.SEED)\n",
        "tokenized_datasets = raw_data.map(\n",
        "    tokenize_and_align_labels,\n",
        "    batched=True,\n",
        "    remove_columns=raw_data[\"train\"].column_names\n",
        ")"
      ]
    },
    {
      "cell_type": "code",
      "execution_count": 40,
      "metadata": {},
      "outputs": [],
      "source": [
        "data_collator = DataCollatorForTokenClassification(tokenizer=tokenizer)"
      ]
    },
    {
      "cell_type": "code",
      "execution_count": 41,
      "metadata": {},
      "outputs": [
        {
          "name": "stderr",
          "output_type": "stream",
          "text": [
            "Some weights of BertForTokenClassification were not initialized from the model checkpoint at huawei-noah/TinyBERT_General_4L_312D and are newly initialized: ['classifier.bias', 'classifier.weight']\n",
            "You should probably TRAIN this model on a down-stream task to be able to use it for predictions and inference.\n"
          ]
        }
      ],
      "source": [
        "label_ids_count = len(cfg.labels.label_ids)\n",
        "model = AutoModelForTokenClassification.from_pretrained(\n",
        "    cfg.model.name, num_labels=label_ids_count, id2label=id2label, label2id=label2id\n",
        ")"
      ]
    },
    {
      "cell_type": "code",
      "execution_count": 42,
      "metadata": {},
      "outputs": [],
      "source": [
        "def compute_metrics(p):\n",
        "    predictions, labels = p\n",
        "    predictions = predictions.argmax(axis=-1)\n",
        "\n",
        "    valid_indices = labels != -100\n",
        "    predictions = predictions[valid_indices]\n",
        "    labels = labels[valid_indices]\n",
        "\n",
        "    accuracy = accuracy_score(labels, predictions)\n",
        "    precision = precision_score(labels, predictions, average='weighted', zero_division=0)\n",
        "    recall = recall_score(labels, predictions, average='weighted', zero_division=0)\n",
        "    f1 = f1_score(labels, predictions, average='weighted', zero_division=0)\n",
        "\n",
        "    return {'accuracy': accuracy, 'precision': precision, 'recall': recall, 'f1': f1}"
      ]
    },
    {
      "cell_type": "code",
      "execution_count": 43,
      "metadata": {},
      "outputs": [
        {
          "name": "stderr",
          "output_type": "stream",
          "text": [
            "d:\\DS-intern-task\\Task-2\\env\\Lib\\site-packages\\transformers\\training_args.py:1594: FutureWarning: `evaluation_strategy` is deprecated and will be removed in version 4.46 of 🤗 Transformers. Use `eval_strategy` instead\n",
            "  warnings.warn(\n"
          ]
        }
      ],
      "source": [
        "training_args = training_args = TrainingArguments(\n",
        "    output_dir=training_output_dir,\n",
        "    evaluation_strategy=cfg.training.evaluation_strategy,\n",
        "    save_strategy=cfg.training.save_strategy,\n",
        "    learning_rate=cfg.training.learning_rate,\n",
        "    num_train_epochs=cfg.training.epochs,\n",
        "    weight_decay=cfg.training.weight_decay,\n",
        "    logging_dir=logging_dir,\n",
        "    logging_steps=cfg.training.logging_steps,\n",
        "    report_to=cfg.training.report_to\n",
        ")"
      ]
    },
    {
      "cell_type": "code",
      "execution_count": 44,
      "metadata": {},
      "outputs": [
        {
          "name": "stderr",
          "output_type": "stream",
          "text": [
            "C:\\Users\\vadim\\AppData\\Local\\Temp\\ipykernel_7120\\923617907.py:1: FutureWarning: `tokenizer` is deprecated and will be removed in version 5.0.0 for `Trainer.__init__`. Use `processing_class` instead.\n",
            "  trainer = Trainer(\n"
          ]
        },
        {
          "data": {
            "text/html": [
              "\n",
              "    <div>\n",
              "      \n",
              "      <progress value='456' max='456' style='width:300px; height:20px; vertical-align: middle;'></progress>\n",
              "      [456/456 01:17, Epoch 3/3]\n",
              "    </div>\n",
              "    <table border=\"1\" class=\"dataframe\">\n",
              "  <thead>\n",
              " <tr style=\"text-align: left;\">\n",
              "      <th>Epoch</th>\n",
              "      <th>Training Loss</th>\n",
              "      <th>Validation Loss</th>\n",
              "      <th>Accuracy</th>\n",
              "      <th>Precision</th>\n",
              "      <th>Recall</th>\n",
              "      <th>F1</th>\n",
              "    </tr>\n",
              "  </thead>\n",
              "  <tbody>\n",
              "    <tr>\n",
              "      <td>1</td>\n",
              "      <td>0.241700</td>\n",
              "      <td>0.166201</td>\n",
              "      <td>0.995788</td>\n",
              "      <td>0.995817</td>\n",
              "      <td>0.995788</td>\n",
              "      <td>0.995732</td>\n",
              "    </tr>\n",
              "    <tr>\n",
              "      <td>2</td>\n",
              "      <td>0.112600</td>\n",
              "      <td>0.080554</td>\n",
              "      <td>0.996630</td>\n",
              "      <td>0.996668</td>\n",
              "      <td>0.996630</td>\n",
              "      <td>0.996595</td>\n",
              "    </tr>\n",
              "    <tr>\n",
              "      <td>3</td>\n",
              "      <td>0.132800</td>\n",
              "      <td>0.068010</td>\n",
              "      <td>0.997473</td>\n",
              "      <td>0.997507</td>\n",
              "      <td>0.997473</td>\n",
              "      <td>0.997461</td>\n",
              "    </tr>\n",
              "  </tbody>\n",
              "</table><p>"
            ],
            "text/plain": [
              "<IPython.core.display.HTML object>"
            ]
          },
          "metadata": {},
          "output_type": "display_data"
        }
      ],
      "source": [
        "trainer = Trainer(\n",
        "    model=model,\n",
        "    args=training_args,\n",
        "    train_dataset=tokenized_datasets[\"train\"],\n",
        "    eval_dataset=tokenized_datasets[\"valid\"],\n",
        "    data_collator=data_collator,\n",
        "    compute_metrics=compute_metrics,\n",
        "    tokenizer=tokenizer\n",
        ")\n",
        "\n",
        "trainer.train()\n",
        "\n",
        "trainer.save_model(output_model_path)\n"
      ]
    },
    {
      "cell_type": "markdown",
      "metadata": {},
      "source": [
        "## Predict"
      ]
    },
    {
      "cell_type": "code",
      "execution_count": 45,
      "metadata": {},
      "outputs": [],
      "source": [
        "model = AutoModelForTokenClassification.from_pretrained(output_model_path)\n",
        "tokenizer = AutoTokenizer.from_pretrained(output_model_path)"
      ]
    },
    {
      "cell_type": "code",
      "execution_count": 46,
      "metadata": {},
      "outputs": [],
      "source": [
        "def predict(text, model, tokenizer, lemmatizer=None):\n",
        "    # If lemmatizer is provided, lemmatize the text\n",
        "    if lemmatizer:\n",
        "        text = \" \".join([lemmatizer.lemmatize(word) for word in text.split()])\n",
        "\n",
        "    inputs = tokenizer(text, return_tensors=\"pt\", padding=True, truncation=True)\n",
        "\n",
        "    # Disable gradient computation for inference\n",
        "    with torch.no_grad():\n",
        "        outputs = model(**inputs)\n",
        "\n",
        "    # Get the predicted labels by selecting the class with the highest probability\n",
        "    predictions = torch.argmax(outputs.logits, dim=-1)\n",
        "\n",
        "    # Convert tensor to NumPy array for easier handling\n",
        "    predicted_labels = predictions[0].cpu().numpy()\n",
        "\n",
        "    # Map the predicted labels to their corresponding class names\n",
        "    label_ids = model.config.id2label\n",
        "\n",
        "    # Extract predicted animals (excluding 'O' which is for non-entities)\n",
        "    predicted_animals = [label_ids[label] for label in predicted_labels if label_ids[label] != \"O\"]\n",
        "\n",
        "    return predicted_animals"
      ]
    },
    {
      "cell_type": "code",
      "execution_count": null,
      "metadata": {},
      "outputs": [
        {
          "name": "stdout",
          "output_type": "stream",
          "text": [
            "['horse']\n"
          ]
        }
      ],
      "source": [
        "# example text, must return \"horse\"\n",
        "text = \"Horse is there\"\n",
        "predictions = predict(text, model, tokenizer, lemmatizer)\n",
        "\n",
        "print(predictions)"
      ]
    }
  ],
  "metadata": {
    "colab": {
      "authorship_tag": "ABX9TyOk14ez8Q95qu4w5EKD6zYy",
      "include_colab_link": true,
      "provenance": []
    },
    "kernelspec": {
      "display_name": "env",
      "language": "python",
      "name": "python3"
    },
    "language_info": {
      "codemirror_mode": {
        "name": "ipython",
        "version": 3
      },
      "file_extension": ".py",
      "mimetype": "text/x-python",
      "name": "python",
      "nbconvert_exporter": "python",
      "pygments_lexer": "ipython3",
      "version": "3.12.3"
    },
    "widgets": {
      "application/vnd.jupyter.widget-state+json": {
        "2114f2bf41704e6ab473f9365e8f1846": {
          "model_module": "@jupyter-widgets/controls",
          "model_module_version": "1.5.0",
          "model_name": "DescriptionStyleModel",
          "state": {
            "_model_module": "@jupyter-widgets/controls",
            "_model_module_version": "1.5.0",
            "_model_name": "DescriptionStyleModel",
            "_view_count": null,
            "_view_module": "@jupyter-widgets/base",
            "_view_module_version": "1.2.0",
            "_view_name": "StyleView",
            "description_width": ""
          }
        },
        "23b3bad9b0584b2bab412bf6b266672c": {
          "model_module": "@jupyter-widgets/controls",
          "model_module_version": "1.5.0",
          "model_name": "ProgressStyleModel",
          "state": {
            "_model_module": "@jupyter-widgets/controls",
            "_model_module_version": "1.5.0",
            "_model_name": "ProgressStyleModel",
            "_view_count": null,
            "_view_module": "@jupyter-widgets/base",
            "_view_module_version": "1.2.0",
            "_view_name": "StyleView",
            "bar_color": null,
            "description_width": ""
          }
        },
        "3c39e8e3e18943e789bb5b7acd083d5f": {
          "model_module": "@jupyter-widgets/controls",
          "model_module_version": "1.5.0",
          "model_name": "HTMLModel",
          "state": {
            "_dom_classes": [],
            "_model_module": "@jupyter-widgets/controls",
            "_model_module_version": "1.5.0",
            "_model_name": "HTMLModel",
            "_view_count": null,
            "_view_module": "@jupyter-widgets/controls",
            "_view_module_version": "1.5.0",
            "_view_name": "HTMLView",
            "description": "",
            "description_tooltip": null,
            "layout": "IPY_MODEL_d87ed65d23c04deda2ecdb103609a44c",
            "placeholder": "​",
            "style": "IPY_MODEL_f7bfe98f6fab47e6a75661f26d8aaf41",
            "value": "Map: 100%"
          }
        },
        "7b8f6f6ba6a743baa76d9a780de49996": {
          "model_module": "@jupyter-widgets/controls",
          "model_module_version": "1.5.0",
          "model_name": "HTMLModel",
          "state": {
            "_dom_classes": [],
            "_model_module": "@jupyter-widgets/controls",
            "_model_module_version": "1.5.0",
            "_model_name": "HTMLModel",
            "_view_count": null,
            "_view_module": "@jupyter-widgets/controls",
            "_view_module_version": "1.5.0",
            "_view_name": "HTMLView",
            "description": "",
            "description_tooltip": null,
            "layout": "IPY_MODEL_c8b9675d52b94da6a47d1da9ae0e0d5b",
            "placeholder": "​",
            "style": "IPY_MODEL_2114f2bf41704e6ab473f9365e8f1846",
            "value": " 6/6 [00:00&lt;00:00, 56.71 examples/s]"
          }
        },
        "8a13986003884a1bbf767e3973574656": {
          "model_module": "@jupyter-widgets/controls",
          "model_module_version": "1.5.0",
          "model_name": "HBoxModel",
          "state": {
            "_dom_classes": [],
            "_model_module": "@jupyter-widgets/controls",
            "_model_module_version": "1.5.0",
            "_model_name": "HBoxModel",
            "_view_count": null,
            "_view_module": "@jupyter-widgets/controls",
            "_view_module_version": "1.5.0",
            "_view_name": "HBoxView",
            "box_style": "",
            "children": [
              "IPY_MODEL_3c39e8e3e18943e789bb5b7acd083d5f",
              "IPY_MODEL_a2f76ac2f5c547a289c96d8b783d873a",
              "IPY_MODEL_7b8f6f6ba6a743baa76d9a780de49996"
            ],
            "layout": "IPY_MODEL_eec39570ee7542e880a39587a1282591"
          }
        },
        "9d26a582831c435ca13c3f5746ade42d": {
          "model_module": "@jupyter-widgets/base",
          "model_module_version": "1.2.0",
          "model_name": "LayoutModel",
          "state": {
            "_model_module": "@jupyter-widgets/base",
            "_model_module_version": "1.2.0",
            "_model_name": "LayoutModel",
            "_view_count": null,
            "_view_module": "@jupyter-widgets/base",
            "_view_module_version": "1.2.0",
            "_view_name": "LayoutView",
            "align_content": null,
            "align_items": null,
            "align_self": null,
            "border": null,
            "bottom": null,
            "display": null,
            "flex": null,
            "flex_flow": null,
            "grid_area": null,
            "grid_auto_columns": null,
            "grid_auto_flow": null,
            "grid_auto_rows": null,
            "grid_column": null,
            "grid_gap": null,
            "grid_row": null,
            "grid_template_areas": null,
            "grid_template_columns": null,
            "grid_template_rows": null,
            "height": null,
            "justify_content": null,
            "justify_items": null,
            "left": null,
            "margin": null,
            "max_height": null,
            "max_width": null,
            "min_height": null,
            "min_width": null,
            "object_fit": null,
            "object_position": null,
            "order": null,
            "overflow": null,
            "overflow_x": null,
            "overflow_y": null,
            "padding": null,
            "right": null,
            "top": null,
            "visibility": null,
            "width": null
          }
        },
        "a2f76ac2f5c547a289c96d8b783d873a": {
          "model_module": "@jupyter-widgets/controls",
          "model_module_version": "1.5.0",
          "model_name": "FloatProgressModel",
          "state": {
            "_dom_classes": [],
            "_model_module": "@jupyter-widgets/controls",
            "_model_module_version": "1.5.0",
            "_model_name": "FloatProgressModel",
            "_view_count": null,
            "_view_module": "@jupyter-widgets/controls",
            "_view_module_version": "1.5.0",
            "_view_name": "ProgressView",
            "bar_style": "success",
            "description": "",
            "description_tooltip": null,
            "layout": "IPY_MODEL_9d26a582831c435ca13c3f5746ade42d",
            "max": 6,
            "min": 0,
            "orientation": "horizontal",
            "style": "IPY_MODEL_23b3bad9b0584b2bab412bf6b266672c",
            "value": 6
          }
        },
        "c8b9675d52b94da6a47d1da9ae0e0d5b": {
          "model_module": "@jupyter-widgets/base",
          "model_module_version": "1.2.0",
          "model_name": "LayoutModel",
          "state": {
            "_model_module": "@jupyter-widgets/base",
            "_model_module_version": "1.2.0",
            "_model_name": "LayoutModel",
            "_view_count": null,
            "_view_module": "@jupyter-widgets/base",
            "_view_module_version": "1.2.0",
            "_view_name": "LayoutView",
            "align_content": null,
            "align_items": null,
            "align_self": null,
            "border": null,
            "bottom": null,
            "display": null,
            "flex": null,
            "flex_flow": null,
            "grid_area": null,
            "grid_auto_columns": null,
            "grid_auto_flow": null,
            "grid_auto_rows": null,
            "grid_column": null,
            "grid_gap": null,
            "grid_row": null,
            "grid_template_areas": null,
            "grid_template_columns": null,
            "grid_template_rows": null,
            "height": null,
            "justify_content": null,
            "justify_items": null,
            "left": null,
            "margin": null,
            "max_height": null,
            "max_width": null,
            "min_height": null,
            "min_width": null,
            "object_fit": null,
            "object_position": null,
            "order": null,
            "overflow": null,
            "overflow_x": null,
            "overflow_y": null,
            "padding": null,
            "right": null,
            "top": null,
            "visibility": null,
            "width": null
          }
        },
        "d87ed65d23c04deda2ecdb103609a44c": {
          "model_module": "@jupyter-widgets/base",
          "model_module_version": "1.2.0",
          "model_name": "LayoutModel",
          "state": {
            "_model_module": "@jupyter-widgets/base",
            "_model_module_version": "1.2.0",
            "_model_name": "LayoutModel",
            "_view_count": null,
            "_view_module": "@jupyter-widgets/base",
            "_view_module_version": "1.2.0",
            "_view_name": "LayoutView",
            "align_content": null,
            "align_items": null,
            "align_self": null,
            "border": null,
            "bottom": null,
            "display": null,
            "flex": null,
            "flex_flow": null,
            "grid_area": null,
            "grid_auto_columns": null,
            "grid_auto_flow": null,
            "grid_auto_rows": null,
            "grid_column": null,
            "grid_gap": null,
            "grid_row": null,
            "grid_template_areas": null,
            "grid_template_columns": null,
            "grid_template_rows": null,
            "height": null,
            "justify_content": null,
            "justify_items": null,
            "left": null,
            "margin": null,
            "max_height": null,
            "max_width": null,
            "min_height": null,
            "min_width": null,
            "object_fit": null,
            "object_position": null,
            "order": null,
            "overflow": null,
            "overflow_x": null,
            "overflow_y": null,
            "padding": null,
            "right": null,
            "top": null,
            "visibility": null,
            "width": null
          }
        },
        "eec39570ee7542e880a39587a1282591": {
          "model_module": "@jupyter-widgets/base",
          "model_module_version": "1.2.0",
          "model_name": "LayoutModel",
          "state": {
            "_model_module": "@jupyter-widgets/base",
            "_model_module_version": "1.2.0",
            "_model_name": "LayoutModel",
            "_view_count": null,
            "_view_module": "@jupyter-widgets/base",
            "_view_module_version": "1.2.0",
            "_view_name": "LayoutView",
            "align_content": null,
            "align_items": null,
            "align_self": null,
            "border": null,
            "bottom": null,
            "display": null,
            "flex": null,
            "flex_flow": null,
            "grid_area": null,
            "grid_auto_columns": null,
            "grid_auto_flow": null,
            "grid_auto_rows": null,
            "grid_column": null,
            "grid_gap": null,
            "grid_row": null,
            "grid_template_areas": null,
            "grid_template_columns": null,
            "grid_template_rows": null,
            "height": null,
            "justify_content": null,
            "justify_items": null,
            "left": null,
            "margin": null,
            "max_height": null,
            "max_width": null,
            "min_height": null,
            "min_width": null,
            "object_fit": null,
            "object_position": null,
            "order": null,
            "overflow": null,
            "overflow_x": null,
            "overflow_y": null,
            "padding": null,
            "right": null,
            "top": null,
            "visibility": null,
            "width": null
          }
        },
        "f7bfe98f6fab47e6a75661f26d8aaf41": {
          "model_module": "@jupyter-widgets/controls",
          "model_module_version": "1.5.0",
          "model_name": "DescriptionStyleModel",
          "state": {
            "_model_module": "@jupyter-widgets/controls",
            "_model_module_version": "1.5.0",
            "_model_name": "DescriptionStyleModel",
            "_view_count": null,
            "_view_module": "@jupyter-widgets/base",
            "_view_module_version": "1.2.0",
            "_view_name": "StyleView",
            "description_width": ""
          }
        }
      }
    }
  },
  "nbformat": 4,
  "nbformat_minor": 0
}
